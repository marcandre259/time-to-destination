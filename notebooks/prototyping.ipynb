{
 "cells": [
  {
   "cell_type": "code",
   "execution_count": 76,
   "metadata": {},
   "outputs": [],
   "source": [
    "from datetime import datetime, timedelta\n",
    "import pytz\n",
    "\n",
    "import requests\n",
    "from copy import deepcopy\n",
    "\n",
    "import polars as pl\n",
    "import numpy as np\n",
    "\n",
    "from dotenv import load_dotenv\n",
    "import os\n",
    "\n",
    "import plotly.express as px\n",
    "from plotly.subplots import make_subplots\n",
    "import plotly.graph_objects as go"
   ]
  },
  {
   "cell_type": "code",
   "execution_count": 77,
   "metadata": {},
   "outputs": [
    {
     "data": {
      "text/plain": [
       "True"
      ]
     },
     "execution_count": 77,
     "metadata": {},
     "output_type": "execute_result"
    }
   ],
   "source": [
    "load_dotenv()"
   ]
  },
  {
   "cell_type": "code",
   "execution_count": 78,
   "metadata": {},
   "outputs": [],
   "source": [
    "apikey = os.getenv(\"distance_matrix_apikey\")"
   ]
  },
  {
   "cell_type": "code",
   "execution_count": 79,
   "metadata": {},
   "outputs": [],
   "source": [
    "arrival_location = \"Edingensesteenweg 196, 1500 Halle\"\n",
    "departure_location = \"Mechelsevest 36, 3000 Leuven\"\n",
    "\n",
    "units = \"metric\""
   ]
  },
  {
   "cell_type": "code",
   "execution_count": 80,
   "metadata": {},
   "outputs": [],
   "source": [
    "def extract_duration_in_traffic(response: dict) -> int:\n",
    "    return response[\"rows\"][0].get(\"elements\")[0].get(\"duration_in_traffic\")[\"value\"]"
   ]
  },
  {
   "cell_type": "code",
   "execution_count": 81,
   "metadata": {},
   "outputs": [],
   "source": [
    "def get_forecast_times_from_departures(\n",
    "    minimum_departure_time: datetime,\n",
    "    maximum_arrival_time: datetime,\n",
    "    arrival_location: str,\n",
    "    departure_location: str,\n",
    ") -> pl.DataFrame:\n",
    "    params = {\n",
    "        \"destinations\": arrival_location,\n",
    "        \"origins\": departure_location,\n",
    "        \"units\": \"metric\",\n",
    "        \"key\": apikey,\n",
    "        \"departure_time\": 0,\n",
    "    }\n",
    "\n",
    "    step_size_seconds = 10 * 60\n",
    "\n",
    "    minimum_departure_timestamp = int(minimum_departure_time.timestamp())\n",
    "    current_arrival_timestamp = 0\n",
    "    current_departure_timestamp = deepcopy(minimum_departure_timestamp)\n",
    "\n",
    "    maximum_arrival_timestamp = int(maximum_arrival_time.timestamp())\n",
    "\n",
    "    data = []\n",
    "\n",
    "    while current_arrival_timestamp <= maximum_arrival_timestamp:\n",
    "        params.update({\"departure_time\": current_departure_timestamp})\n",
    "\n",
    "        response = requests.get(url, params).json()\n",
    "\n",
    "        duration_seconds = extract_duration_in_traffic(response)\n",
    "\n",
    "        duration_minutes = duration_seconds / 60 \n",
    "\n",
    "        current_arrival_timestamp = current_departure_timestamp + duration_seconds\n",
    "\n",
    "        current_arrival_time = datetime.fromtimestamp(current_arrival_timestamp)\n",
    "\n",
    "        current_departure_time = datetime.fromtimestamp(current_departure_timestamp)\n",
    "\n",
    "        data.append(\n",
    "            {\n",
    "                \"departure_time\": current_departure_time,\n",
    "                \"duration_minutes\": duration_minutes,\n",
    "                \"arrival_time\": current_arrival_time,\n",
    "            }\n",
    "        )\n",
    "\n",
    "        current_departure_timestamp += step_size_seconds\n",
    "\n",
    "    return pl.from_dicts(data)"
   ]
  },
  {
   "cell_type": "code",
   "execution_count": 82,
   "metadata": {},
   "outputs": [
    {
     "data": {
      "text/html": [
       "<div><style>\n",
       ".dataframe > thead > tr,\n",
       ".dataframe > tbody > tr {\n",
       "  text-align: right;\n",
       "  white-space: pre-wrap;\n",
       "}\n",
       "</style>\n",
       "<small>shape: (5, 3)</small><table border=\"1\" class=\"dataframe\"><thead><tr><th>departure_time</th><th>duration_minutes</th><th>arrival_time</th></tr><tr><td>datetime[μs]</td><td>f64</td><td>datetime[μs]</td></tr></thead><tbody><tr><td>2024-07-23 06:00:00</td><td>43.4</td><td>2024-07-23 06:43:24</td></tr><tr><td>2024-07-23 06:10:00</td><td>45.083333</td><td>2024-07-23 06:55:05</td></tr><tr><td>2024-07-23 06:20:00</td><td>49.4</td><td>2024-07-23 07:09:24</td></tr><tr><td>2024-07-23 06:30:00</td><td>52.916667</td><td>2024-07-23 07:22:55</td></tr><tr><td>2024-07-23 06:40:00</td><td>56.85</td><td>2024-07-23 07:36:51</td></tr></tbody></table></div>"
      ],
      "text/plain": [
       "shape: (5, 3)\n",
       "┌─────────────────────┬──────────────────┬─────────────────────┐\n",
       "│ departure_time      ┆ duration_minutes ┆ arrival_time        │\n",
       "│ ---                 ┆ ---              ┆ ---                 │\n",
       "│ datetime[μs]        ┆ f64              ┆ datetime[μs]        │\n",
       "╞═════════════════════╪══════════════════╪═════════════════════╡\n",
       "│ 2024-07-23 06:00:00 ┆ 43.4             ┆ 2024-07-23 06:43:24 │\n",
       "│ 2024-07-23 06:10:00 ┆ 45.083333        ┆ 2024-07-23 06:55:05 │\n",
       "│ 2024-07-23 06:20:00 ┆ 49.4             ┆ 2024-07-23 07:09:24 │\n",
       "│ 2024-07-23 06:30:00 ┆ 52.916667        ┆ 2024-07-23 07:22:55 │\n",
       "│ 2024-07-23 06:40:00 ┆ 56.85            ┆ 2024-07-23 07:36:51 │\n",
       "└─────────────────────┴──────────────────┴─────────────────────┘"
      ]
     },
     "execution_count": 82,
     "metadata": {},
     "output_type": "execute_result"
    }
   ],
   "source": [
    "pl_morning = get_forecast_times_from_departures(\n",
    "    datetime(2024, 7, 23, 6, 0),\n",
    "    datetime(2024, 7, 23, 9, 0),\n",
    "    arrival_location,\n",
    "    departure_location,\n",
    ")\n",
    "\n",
    "pl_morning.head()"
   ]
  },
  {
   "cell_type": "code",
   "execution_count": 83,
   "metadata": {},
   "outputs": [
    {
     "data": {
      "text/html": [
       "<div><style>\n",
       ".dataframe > thead > tr,\n",
       ".dataframe > tbody > tr {\n",
       "  text-align: right;\n",
       "  white-space: pre-wrap;\n",
       "}\n",
       "</style>\n",
       "<small>shape: (5, 3)</small><table border=\"1\" class=\"dataframe\"><thead><tr><th>departure_time</th><th>duration_minutes</th><th>arrival_time</th></tr><tr><td>datetime[μs]</td><td>f64</td><td>datetime[μs]</td></tr></thead><tbody><tr><td>2024-07-23 16:00:00</td><td>61.716667</td><td>2024-07-23 17:01:43</td></tr><tr><td>2024-07-23 16:10:00</td><td>63.3</td><td>2024-07-23 17:13:18</td></tr><tr><td>2024-07-23 16:20:00</td><td>62.483333</td><td>2024-07-23 17:22:29</td></tr><tr><td>2024-07-23 16:30:00</td><td>63.116667</td><td>2024-07-23 17:33:07</td></tr><tr><td>2024-07-23 16:40:00</td><td>62.866667</td><td>2024-07-23 17:42:52</td></tr></tbody></table></div>"
      ],
      "text/plain": [
       "shape: (5, 3)\n",
       "┌─────────────────────┬──────────────────┬─────────────────────┐\n",
       "│ departure_time      ┆ duration_minutes ┆ arrival_time        │\n",
       "│ ---                 ┆ ---              ┆ ---                 │\n",
       "│ datetime[μs]        ┆ f64              ┆ datetime[μs]        │\n",
       "╞═════════════════════╪══════════════════╪═════════════════════╡\n",
       "│ 2024-07-23 16:00:00 ┆ 61.716667        ┆ 2024-07-23 17:01:43 │\n",
       "│ 2024-07-23 16:10:00 ┆ 63.3             ┆ 2024-07-23 17:13:18 │\n",
       "│ 2024-07-23 16:20:00 ┆ 62.483333        ┆ 2024-07-23 17:22:29 │\n",
       "│ 2024-07-23 16:30:00 ┆ 63.116667        ┆ 2024-07-23 17:33:07 │\n",
       "│ 2024-07-23 16:40:00 ┆ 62.866667        ┆ 2024-07-23 17:42:52 │\n",
       "└─────────────────────┴──────────────────┴─────────────────────┘"
      ]
     },
     "execution_count": 83,
     "metadata": {},
     "output_type": "execute_result"
    }
   ],
   "source": [
    "pl_evening = get_forecast_times_from_departures(\n",
    "    datetime(2024, 7, 23, 16, 0),\n",
    "    datetime(2024, 7, 23, 20, 0),\n",
    "    departure_location,\n",
    "    arrival_location,\n",
    ")\n",
    "\n",
    "pl_evening.head()\n"
   ]
  },
  {
   "cell_type": "code",
   "execution_count": 84,
   "metadata": {},
   "outputs": [],
   "source": [
    "pl_morning = pl_morning.with_columns(pl.lit(\"morning\").alias(\"time_of_day\"))\n",
    "pl_evening = pl_evening.with_columns(pl.lit(\"evening\").alias(\"time_of_day\"))\n",
    "\n",
    "pl_trips = pl.concat([pl_morning, pl_evening])"
   ]
  },
  {
   "cell_type": "code",
   "execution_count": 85,
   "metadata": {},
   "outputs": [
    {
     "data": {
      "application/vnd.plotly.v1+json": {
       "config": {
        "plotlyServerURL": "https://plot.ly"
       },
       "data": [
        {
         "mode": "lines",
         "name": "morning",
         "type": "scatter",
         "x": [
          "2024-07-23T06:00:00.000000",
          "2024-07-23T06:10:00.000000",
          "2024-07-23T06:20:00.000000",
          "2024-07-23T06:30:00.000000",
          "2024-07-23T06:40:00.000000",
          "2024-07-23T06:50:00.000000",
          "2024-07-23T07:00:00.000000",
          "2024-07-23T07:10:00.000000",
          "2024-07-23T07:20:00.000000",
          "2024-07-23T07:30:00.000000",
          "2024-07-23T07:40:00.000000",
          "2024-07-23T07:50:00.000000"
         ],
         "xaxis": "x",
         "y": [
          43.4,
          45.083333333333336,
          49.4,
          52.916666666666664,
          56.85,
          60.13333333333333,
          64.08333333333333,
          65.43333333333334,
          69.03333333333333,
          71.7,
          72.36666666666666,
          72.53333333333333
         ],
         "yaxis": "y"
        },
        {
         "mode": "lines",
         "name": "evening",
         "type": "scatter",
         "x": [
          "2024-07-23T16:00:00.000000",
          "2024-07-23T16:10:00.000000",
          "2024-07-23T16:20:00.000000",
          "2024-07-23T16:30:00.000000",
          "2024-07-23T16:40:00.000000",
          "2024-07-23T16:50:00.000000",
          "2024-07-23T17:00:00.000000",
          "2024-07-23T17:10:00.000000",
          "2024-07-23T17:20:00.000000",
          "2024-07-23T17:30:00.000000",
          "2024-07-23T17:40:00.000000",
          "2024-07-23T17:50:00.000000",
          "2024-07-23T18:00:00.000000",
          "2024-07-23T18:10:00.000000",
          "2024-07-23T18:20:00.000000",
          "2024-07-23T18:30:00.000000",
          "2024-07-23T18:40:00.000000",
          "2024-07-23T18:50:00.000000",
          "2024-07-23T19:00:00.000000",
          "2024-07-23T19:10:00.000000",
          "2024-07-23T19:20:00.000000"
         ],
         "xaxis": "x2",
         "y": [
          61.71666666666667,
          63.3,
          62.483333333333334,
          63.11666666666667,
          62.86666666666667,
          61.96666666666667,
          60.78333333333333,
          60.28333333333333,
          58.233333333333334,
          56.016666666666666,
          54.06666666666667,
          51.983333333333334,
          49.916666666666664,
          47.56666666666667,
          46.2,
          45.38333333333333,
          44.36666666666667,
          43.95,
          43.56666666666667,
          43.25,
          43.68333333333333
         ],
         "yaxis": "y2"
        }
       ],
       "layout": {
        "annotations": [
         {
          "font": {
           "size": 16
          },
          "showarrow": false,
          "text": "Morning",
          "x": 0.5,
          "xanchor": "center",
          "xref": "paper",
          "y": 1,
          "yanchor": "bottom",
          "yref": "paper"
         },
         {
          "font": {
           "size": 16
          },
          "showarrow": false,
          "text": "Evening",
          "x": 0.5,
          "xanchor": "center",
          "xref": "paper",
          "y": 0.375,
          "yanchor": "bottom",
          "yref": "paper"
         }
        ],
        "template": {
         "data": {
          "bar": [
           {
            "error_x": {
             "color": "#2a3f5f"
            },
            "error_y": {
             "color": "#2a3f5f"
            },
            "marker": {
             "line": {
              "color": "#E5ECF6",
              "width": 0.5
             },
             "pattern": {
              "fillmode": "overlay",
              "size": 10,
              "solidity": 0.2
             }
            },
            "type": "bar"
           }
          ],
          "barpolar": [
           {
            "marker": {
             "line": {
              "color": "#E5ECF6",
              "width": 0.5
             },
             "pattern": {
              "fillmode": "overlay",
              "size": 10,
              "solidity": 0.2
             }
            },
            "type": "barpolar"
           }
          ],
          "carpet": [
           {
            "aaxis": {
             "endlinecolor": "#2a3f5f",
             "gridcolor": "white",
             "linecolor": "white",
             "minorgridcolor": "white",
             "startlinecolor": "#2a3f5f"
            },
            "baxis": {
             "endlinecolor": "#2a3f5f",
             "gridcolor": "white",
             "linecolor": "white",
             "minorgridcolor": "white",
             "startlinecolor": "#2a3f5f"
            },
            "type": "carpet"
           }
          ],
          "choropleth": [
           {
            "colorbar": {
             "outlinewidth": 0,
             "ticks": ""
            },
            "type": "choropleth"
           }
          ],
          "contour": [
           {
            "colorbar": {
             "outlinewidth": 0,
             "ticks": ""
            },
            "colorscale": [
             [
              0,
              "#0d0887"
             ],
             [
              0.1111111111111111,
              "#46039f"
             ],
             [
              0.2222222222222222,
              "#7201a8"
             ],
             [
              0.3333333333333333,
              "#9c179e"
             ],
             [
              0.4444444444444444,
              "#bd3786"
             ],
             [
              0.5555555555555556,
              "#d8576b"
             ],
             [
              0.6666666666666666,
              "#ed7953"
             ],
             [
              0.7777777777777778,
              "#fb9f3a"
             ],
             [
              0.8888888888888888,
              "#fdca26"
             ],
             [
              1,
              "#f0f921"
             ]
            ],
            "type": "contour"
           }
          ],
          "contourcarpet": [
           {
            "colorbar": {
             "outlinewidth": 0,
             "ticks": ""
            },
            "type": "contourcarpet"
           }
          ],
          "heatmap": [
           {
            "colorbar": {
             "outlinewidth": 0,
             "ticks": ""
            },
            "colorscale": [
             [
              0,
              "#0d0887"
             ],
             [
              0.1111111111111111,
              "#46039f"
             ],
             [
              0.2222222222222222,
              "#7201a8"
             ],
             [
              0.3333333333333333,
              "#9c179e"
             ],
             [
              0.4444444444444444,
              "#bd3786"
             ],
             [
              0.5555555555555556,
              "#d8576b"
             ],
             [
              0.6666666666666666,
              "#ed7953"
             ],
             [
              0.7777777777777778,
              "#fb9f3a"
             ],
             [
              0.8888888888888888,
              "#fdca26"
             ],
             [
              1,
              "#f0f921"
             ]
            ],
            "type": "heatmap"
           }
          ],
          "heatmapgl": [
           {
            "colorbar": {
             "outlinewidth": 0,
             "ticks": ""
            },
            "colorscale": [
             [
              0,
              "#0d0887"
             ],
             [
              0.1111111111111111,
              "#46039f"
             ],
             [
              0.2222222222222222,
              "#7201a8"
             ],
             [
              0.3333333333333333,
              "#9c179e"
             ],
             [
              0.4444444444444444,
              "#bd3786"
             ],
             [
              0.5555555555555556,
              "#d8576b"
             ],
             [
              0.6666666666666666,
              "#ed7953"
             ],
             [
              0.7777777777777778,
              "#fb9f3a"
             ],
             [
              0.8888888888888888,
              "#fdca26"
             ],
             [
              1,
              "#f0f921"
             ]
            ],
            "type": "heatmapgl"
           }
          ],
          "histogram": [
           {
            "marker": {
             "pattern": {
              "fillmode": "overlay",
              "size": 10,
              "solidity": 0.2
             }
            },
            "type": "histogram"
           }
          ],
          "histogram2d": [
           {
            "colorbar": {
             "outlinewidth": 0,
             "ticks": ""
            },
            "colorscale": [
             [
              0,
              "#0d0887"
             ],
             [
              0.1111111111111111,
              "#46039f"
             ],
             [
              0.2222222222222222,
              "#7201a8"
             ],
             [
              0.3333333333333333,
              "#9c179e"
             ],
             [
              0.4444444444444444,
              "#bd3786"
             ],
             [
              0.5555555555555556,
              "#d8576b"
             ],
             [
              0.6666666666666666,
              "#ed7953"
             ],
             [
              0.7777777777777778,
              "#fb9f3a"
             ],
             [
              0.8888888888888888,
              "#fdca26"
             ],
             [
              1,
              "#f0f921"
             ]
            ],
            "type": "histogram2d"
           }
          ],
          "histogram2dcontour": [
           {
            "colorbar": {
             "outlinewidth": 0,
             "ticks": ""
            },
            "colorscale": [
             [
              0,
              "#0d0887"
             ],
             [
              0.1111111111111111,
              "#46039f"
             ],
             [
              0.2222222222222222,
              "#7201a8"
             ],
             [
              0.3333333333333333,
              "#9c179e"
             ],
             [
              0.4444444444444444,
              "#bd3786"
             ],
             [
              0.5555555555555556,
              "#d8576b"
             ],
             [
              0.6666666666666666,
              "#ed7953"
             ],
             [
              0.7777777777777778,
              "#fb9f3a"
             ],
             [
              0.8888888888888888,
              "#fdca26"
             ],
             [
              1,
              "#f0f921"
             ]
            ],
            "type": "histogram2dcontour"
           }
          ],
          "mesh3d": [
           {
            "colorbar": {
             "outlinewidth": 0,
             "ticks": ""
            },
            "type": "mesh3d"
           }
          ],
          "parcoords": [
           {
            "line": {
             "colorbar": {
              "outlinewidth": 0,
              "ticks": ""
             }
            },
            "type": "parcoords"
           }
          ],
          "pie": [
           {
            "automargin": true,
            "type": "pie"
           }
          ],
          "scatter": [
           {
            "fillpattern": {
             "fillmode": "overlay",
             "size": 10,
             "solidity": 0.2
            },
            "type": "scatter"
           }
          ],
          "scatter3d": [
           {
            "line": {
             "colorbar": {
              "outlinewidth": 0,
              "ticks": ""
             }
            },
            "marker": {
             "colorbar": {
              "outlinewidth": 0,
              "ticks": ""
             }
            },
            "type": "scatter3d"
           }
          ],
          "scattercarpet": [
           {
            "marker": {
             "colorbar": {
              "outlinewidth": 0,
              "ticks": ""
             }
            },
            "type": "scattercarpet"
           }
          ],
          "scattergeo": [
           {
            "marker": {
             "colorbar": {
              "outlinewidth": 0,
              "ticks": ""
             }
            },
            "type": "scattergeo"
           }
          ],
          "scattergl": [
           {
            "marker": {
             "colorbar": {
              "outlinewidth": 0,
              "ticks": ""
             }
            },
            "type": "scattergl"
           }
          ],
          "scattermapbox": [
           {
            "marker": {
             "colorbar": {
              "outlinewidth": 0,
              "ticks": ""
             }
            },
            "type": "scattermapbox"
           }
          ],
          "scatterpolar": [
           {
            "marker": {
             "colorbar": {
              "outlinewidth": 0,
              "ticks": ""
             }
            },
            "type": "scatterpolar"
           }
          ],
          "scatterpolargl": [
           {
            "marker": {
             "colorbar": {
              "outlinewidth": 0,
              "ticks": ""
             }
            },
            "type": "scatterpolargl"
           }
          ],
          "scatterternary": [
           {
            "marker": {
             "colorbar": {
              "outlinewidth": 0,
              "ticks": ""
             }
            },
            "type": "scatterternary"
           }
          ],
          "surface": [
           {
            "colorbar": {
             "outlinewidth": 0,
             "ticks": ""
            },
            "colorscale": [
             [
              0,
              "#0d0887"
             ],
             [
              0.1111111111111111,
              "#46039f"
             ],
             [
              0.2222222222222222,
              "#7201a8"
             ],
             [
              0.3333333333333333,
              "#9c179e"
             ],
             [
              0.4444444444444444,
              "#bd3786"
             ],
             [
              0.5555555555555556,
              "#d8576b"
             ],
             [
              0.6666666666666666,
              "#ed7953"
             ],
             [
              0.7777777777777778,
              "#fb9f3a"
             ],
             [
              0.8888888888888888,
              "#fdca26"
             ],
             [
              1,
              "#f0f921"
             ]
            ],
            "type": "surface"
           }
          ],
          "table": [
           {
            "cells": {
             "fill": {
              "color": "#EBF0F8"
             },
             "line": {
              "color": "white"
             }
            },
            "header": {
             "fill": {
              "color": "#C8D4E3"
             },
             "line": {
              "color": "white"
             }
            },
            "type": "table"
           }
          ]
         },
         "layout": {
          "annotationdefaults": {
           "arrowcolor": "#2a3f5f",
           "arrowhead": 0,
           "arrowwidth": 1
          },
          "autotypenumbers": "strict",
          "coloraxis": {
           "colorbar": {
            "outlinewidth": 0,
            "ticks": ""
           }
          },
          "colorscale": {
           "diverging": [
            [
             0,
             "#8e0152"
            ],
            [
             0.1,
             "#c51b7d"
            ],
            [
             0.2,
             "#de77ae"
            ],
            [
             0.3,
             "#f1b6da"
            ],
            [
             0.4,
             "#fde0ef"
            ],
            [
             0.5,
             "#f7f7f7"
            ],
            [
             0.6,
             "#e6f5d0"
            ],
            [
             0.7,
             "#b8e186"
            ],
            [
             0.8,
             "#7fbc41"
            ],
            [
             0.9,
             "#4d9221"
            ],
            [
             1,
             "#276419"
            ]
           ],
           "sequential": [
            [
             0,
             "#0d0887"
            ],
            [
             0.1111111111111111,
             "#46039f"
            ],
            [
             0.2222222222222222,
             "#7201a8"
            ],
            [
             0.3333333333333333,
             "#9c179e"
            ],
            [
             0.4444444444444444,
             "#bd3786"
            ],
            [
             0.5555555555555556,
             "#d8576b"
            ],
            [
             0.6666666666666666,
             "#ed7953"
            ],
            [
             0.7777777777777778,
             "#fb9f3a"
            ],
            [
             0.8888888888888888,
             "#fdca26"
            ],
            [
             1,
             "#f0f921"
            ]
           ],
           "sequentialminus": [
            [
             0,
             "#0d0887"
            ],
            [
             0.1111111111111111,
             "#46039f"
            ],
            [
             0.2222222222222222,
             "#7201a8"
            ],
            [
             0.3333333333333333,
             "#9c179e"
            ],
            [
             0.4444444444444444,
             "#bd3786"
            ],
            [
             0.5555555555555556,
             "#d8576b"
            ],
            [
             0.6666666666666666,
             "#ed7953"
            ],
            [
             0.7777777777777778,
             "#fb9f3a"
            ],
            [
             0.8888888888888888,
             "#fdca26"
            ],
            [
             1,
             "#f0f921"
            ]
           ]
          },
          "colorway": [
           "#636efa",
           "#EF553B",
           "#00cc96",
           "#ab63fa",
           "#FFA15A",
           "#19d3f3",
           "#FF6692",
           "#B6E880",
           "#FF97FF",
           "#FECB52"
          ],
          "font": {
           "color": "#2a3f5f"
          },
          "geo": {
           "bgcolor": "white",
           "lakecolor": "white",
           "landcolor": "#E5ECF6",
           "showlakes": true,
           "showland": true,
           "subunitcolor": "white"
          },
          "hoverlabel": {
           "align": "left"
          },
          "hovermode": "closest",
          "mapbox": {
           "style": "light"
          },
          "paper_bgcolor": "white",
          "plot_bgcolor": "#E5ECF6",
          "polar": {
           "angularaxis": {
            "gridcolor": "white",
            "linecolor": "white",
            "ticks": ""
           },
           "bgcolor": "#E5ECF6",
           "radialaxis": {
            "gridcolor": "white",
            "linecolor": "white",
            "ticks": ""
           }
          },
          "scene": {
           "xaxis": {
            "backgroundcolor": "#E5ECF6",
            "gridcolor": "white",
            "gridwidth": 2,
            "linecolor": "white",
            "showbackground": true,
            "ticks": "",
            "zerolinecolor": "white"
           },
           "yaxis": {
            "backgroundcolor": "#E5ECF6",
            "gridcolor": "white",
            "gridwidth": 2,
            "linecolor": "white",
            "showbackground": true,
            "ticks": "",
            "zerolinecolor": "white"
           },
           "zaxis": {
            "backgroundcolor": "#E5ECF6",
            "gridcolor": "white",
            "gridwidth": 2,
            "linecolor": "white",
            "showbackground": true,
            "ticks": "",
            "zerolinecolor": "white"
           }
          },
          "shapedefaults": {
           "line": {
            "color": "#2a3f5f"
           }
          },
          "ternary": {
           "aaxis": {
            "gridcolor": "white",
            "linecolor": "white",
            "ticks": ""
           },
           "baxis": {
            "gridcolor": "white",
            "linecolor": "white",
            "ticks": ""
           },
           "bgcolor": "#E5ECF6",
           "caxis": {
            "gridcolor": "white",
            "linecolor": "white",
            "ticks": ""
           }
          },
          "title": {
           "x": 0.05
          },
          "xaxis": {
           "automargin": true,
           "gridcolor": "white",
           "linecolor": "white",
           "ticks": "",
           "title": {
            "standoff": 15
           },
           "zerolinecolor": "white",
           "zerolinewidth": 2
          },
          "yaxis": {
           "automargin": true,
           "gridcolor": "white",
           "linecolor": "white",
           "ticks": "",
           "title": {
            "standoff": 15
           },
           "zerolinecolor": "white",
           "zerolinewidth": 2
          }
         }
        },
        "xaxis": {
         "anchor": "y",
         "domain": [
          0,
          1
         ]
        },
        "xaxis2": {
         "anchor": "y2",
         "domain": [
          0,
          1
         ]
        },
        "yaxis": {
         "anchor": "x",
         "domain": [
          0.625,
          1
         ]
        },
        "yaxis2": {
         "anchor": "x2",
         "domain": [
          0,
          0.375
         ]
        }
       }
      }
     },
     "metadata": {},
     "output_type": "display_data"
    }
   ],
   "source": [
    "fig = make_subplots(rows=2, cols=1, subplot_titles=(\"Morning\", \"Evening\"))\n",
    "\n",
    "# Add traces for each subplot\n",
    "fig.add_trace(go.Scatter(x=pl_morning[\"departure_time\"], y=pl_morning[\"duration_minutes\"], mode='lines', name=\"morning\"), row=1, col=1)\n",
    "fig.add_trace(go.Scatter(x=pl_evening[\"departure_time\"], y=pl_evening[\"duration_minutes\"], mode='lines', name=\"evening\"), row=2, col=1)"
   ]
  },
  {
   "cell_type": "code",
   "execution_count": null,
   "metadata": {},
   "outputs": [],
   "source": []
  }
 ],
 "metadata": {
  "kernelspec": {
   "display_name": "time-to-destination",
   "language": "python",
   "name": "python3"
  },
  "language_info": {
   "codemirror_mode": {
    "name": "ipython",
    "version": 3
   },
   "file_extension": ".py",
   "mimetype": "text/x-python",
   "name": "python",
   "nbconvert_exporter": "python",
   "pygments_lexer": "ipython3",
   "version": "3.11.9"
  }
 },
 "nbformat": 4,
 "nbformat_minor": 2
}
